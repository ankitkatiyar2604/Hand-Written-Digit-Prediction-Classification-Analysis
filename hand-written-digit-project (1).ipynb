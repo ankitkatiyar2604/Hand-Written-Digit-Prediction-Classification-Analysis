{
 "cells": [
  {
   "cell_type": "markdown",
   "id": "75bef412",
   "metadata": {
    "id": "Vy2SMfOTv6Ej",
    "papermill": {
     "duration": 0.010103,
     "end_time": "2024-06-09T05:44:16.299372",
     "exception": false,
     "start_time": "2024-06-09T05:44:16.289269",
     "status": "completed"
    },
    "tags": []
   },
   "source": [
    "# **Hand Written Digit Prediction-Classification Analysis**\n"
   ]
  },
  {
   "cell_type": "markdown",
   "id": "185054d8",
   "metadata": {
    "id": "KbuYmdX0w_ss",
    "papermill": {
     "duration": 0.010944,
     "end_time": "2024-06-09T05:44:16.321718",
     "exception": false,
     "start_time": "2024-06-09T05:44:16.310774",
     "status": "completed"
    },
    "tags": []
   },
   "source": [
    "The digits dataset consists of 8x8 pixel images pf digits.The images attribute of the dataset stores 8x8 arrays of grayscale values for each image.we will use these arrays to visualize the first 4 images.The target attritube of the dataset stores the digit each image represents"
   ]
  },
  {
   "cell_type": "markdown",
   "id": "859c6454",
   "metadata": {
    "id": "q30YKMDE6ZFU",
    "papermill": {
     "duration": 0.012262,
     "end_time": "2024-06-09T05:44:16.344063",
     "exception": false,
     "start_time": "2024-06-09T05:44:16.331801",
     "status": "completed"
    },
    "tags": []
   },
   "source": [
    "ybi foundation-github"
   ]
  },
  {
   "cell_type": "markdown",
   "id": "ec95226d",
   "metadata": {
    "id": "Q8K4pOQP_NcM",
    "papermill": {
     "duration": 0.013036,
     "end_time": "2024-06-09T05:44:16.368002",
     "exception": false,
     "start_time": "2024-06-09T05:44:16.354966",
     "status": "completed"
    },
    "tags": []
   },
   "source": [
    "# **Import Library**"
   ]
  },
  {
   "cell_type": "code",
   "execution_count": 1,
   "id": "fee2de69",
   "metadata": {
    "execution": {
     "iopub.execute_input": "2024-06-09T05:44:16.392513Z",
     "iopub.status.busy": "2024-06-09T05:44:16.392097Z",
     "iopub.status.idle": "2024-06-09T05:44:16.403491Z",
     "shell.execute_reply": "2024-06-09T05:44:16.402296Z"
    },
    "id": "t1eFOFTO-8Z0",
    "papermill": {
     "duration": 0.027309,
     "end_time": "2024-06-09T05:44:16.406152",
     "exception": false,
     "start_time": "2024-06-09T05:44:16.378843",
     "status": "completed"
    },
    "tags": []
   },
   "outputs": [],
   "source": [
    "import pandas as pd"
   ]
  },
  {
   "cell_type": "code",
   "execution_count": 2,
   "id": "290d749c",
   "metadata": {
    "execution": {
     "iopub.execute_input": "2024-06-09T05:44:16.428641Z",
     "iopub.status.busy": "2024-06-09T05:44:16.428252Z",
     "iopub.status.idle": "2024-06-09T05:44:16.433422Z",
     "shell.execute_reply": "2024-06-09T05:44:16.432161Z"
    },
    "id": "JyR99cCf_vhs",
    "papermill": {
     "duration": 0.019639,
     "end_time": "2024-06-09T05:44:16.435917",
     "exception": false,
     "start_time": "2024-06-09T05:44:16.416278",
     "status": "completed"
    },
    "tags": []
   },
   "outputs": [],
   "source": [
    "import numpy as np"
   ]
  },
  {
   "cell_type": "code",
   "execution_count": 3,
   "id": "3b5ecc02",
   "metadata": {
    "execution": {
     "iopub.execute_input": "2024-06-09T05:44:16.458693Z",
     "iopub.status.busy": "2024-06-09T05:44:16.458200Z",
     "iopub.status.idle": "2024-06-09T05:44:16.467173Z",
     "shell.execute_reply": "2024-06-09T05:44:16.465140Z"
    },
    "id": "c0E4zO99AuEc",
    "papermill": {
     "duration": 0.023564,
     "end_time": "2024-06-09T05:44:16.469703",
     "exception": false,
     "start_time": "2024-06-09T05:44:16.446139",
     "status": "completed"
    },
    "tags": []
   },
   "outputs": [],
   "source": [
    "import matplotlib.pyplot as plt"
   ]
  },
  {
   "cell_type": "markdown",
   "id": "95494788",
   "metadata": {
    "id": "bRukRNKoA4VL",
    "papermill": {
     "duration": 0.010102,
     "end_time": "2024-06-09T05:44:16.490939",
     "exception": false,
     "start_time": "2024-06-09T05:44:16.480837",
     "status": "completed"
    },
    "tags": []
   },
   "source": [
    "# **Import Data**"
   ]
  },
  {
   "cell_type": "code",
   "execution_count": 4,
   "id": "dc58c56f",
   "metadata": {
    "execution": {
     "iopub.execute_input": "2024-06-09T05:44:16.513791Z",
     "iopub.status.busy": "2024-06-09T05:44:16.513372Z",
     "iopub.status.idle": "2024-06-09T05:44:17.948864Z",
     "shell.execute_reply": "2024-06-09T05:44:17.947763Z"
    },
    "id": "qVGZMA-gA9wS",
    "papermill": {
     "duration": 1.450728,
     "end_time": "2024-06-09T05:44:17.951413",
     "exception": false,
     "start_time": "2024-06-09T05:44:16.500685",
     "status": "completed"
    },
    "tags": []
   },
   "outputs": [
    {
     "name": "stderr",
     "output_type": "stream",
     "text": [
      "/opt/conda/lib/python3.10/site-packages/scipy/__init__.py:146: UserWarning: A NumPy version >=1.16.5 and <1.23.0 is required for this version of SciPy (detected version 1.23.5\n",
      "  warnings.warn(f\"A NumPy version >={np_minversion} and <{np_maxversion}\"\n"
     ]
    }
   ],
   "source": [
    "from sklearn.datasets import load_digits"
   ]
  },
  {
   "cell_type": "markdown",
   "id": "e70cc524",
   "metadata": {
    "id": "FsQ-nMO6Be9X",
    "papermill": {
     "duration": 0.009474,
     "end_time": "2024-06-09T05:44:17.970810",
     "exception": false,
     "start_time": "2024-06-09T05:44:17.961336",
     "status": "completed"
    },
    "tags": []
   },
   "source": [
    "# **Describe Data**"
   ]
  },
  {
   "cell_type": "code",
   "execution_count": 5,
   "id": "cd88d4fe",
   "metadata": {
    "execution": {
     "iopub.execute_input": "2024-06-09T05:44:17.993054Z",
     "iopub.status.busy": "2024-06-09T05:44:17.992536Z",
     "iopub.status.idle": "2024-06-09T05:44:18.016446Z",
     "shell.execute_reply": "2024-06-09T05:44:18.015228Z"
    },
    "id": "5TFthIsbEQlj",
    "papermill": {
     "duration": 0.037992,
     "end_time": "2024-06-09T05:44:18.019310",
     "exception": false,
     "start_time": "2024-06-09T05:44:17.981318",
     "status": "completed"
    },
    "tags": []
   },
   "outputs": [],
   "source": [
    "df = load_digits()"
   ]
  },
  {
   "cell_type": "markdown",
   "id": "344970a9",
   "metadata": {
    "id": "Iwdky6kTDw_y",
    "papermill": {
     "duration": 0.009539,
     "end_time": "2024-06-09T05:44:18.039598",
     "exception": false,
     "start_time": "2024-06-09T05:44:18.030059",
     "status": "completed"
    },
    "tags": []
   },
   "source": [
    "# **Data Visualization**"
   ]
  },
  {
   "cell_type": "code",
   "execution_count": 6,
   "id": "17881d27",
   "metadata": {
    "execution": {
     "iopub.execute_input": "2024-06-09T05:44:18.060644Z",
     "iopub.status.busy": "2024-06-09T05:44:18.060264Z",
     "iopub.status.idle": "2024-06-09T05:44:18.466500Z",
     "shell.execute_reply": "2024-06-09T05:44:18.465293Z"
    },
    "id": "dOGpR-sIElEO",
    "outputId": "1c72fa90-4376-41d5-e6cd-53e56cdd85be",
    "papermill": {
     "duration": 0.419733,
     "end_time": "2024-06-09T05:44:18.469120",
     "exception": false,
     "start_time": "2024-06-09T05:44:18.049387",
     "status": "completed"
    },
    "tags": []
   },
   "outputs": [
    {
     "data": {
      "image/png": "[encoded data removed]",
      "text/plain": [
       "<Figure size 1000x300 with 4 Axes>"
      ]
     },
     "metadata": {},
     "output_type": "display_data"
    }
   ],
   "source": [
    "_, axes = plt.subplots(nrows = 1, ncols = 4, figsize = (10, 3))\n",
    "for ax, image, label in zip(axes, df.images, df.target):\n",
    "    ax.set_axis_off()\n",
    "    ax.imshow(image, cmap=plt.cm.gray_r, interpolation = 'nearest')\n",
    "    ax.set_title('Training: %i' % label)"
   ]
  },
  {
   "cell_type": "markdown",
   "id": "ce5909e8",
   "metadata": {
    "id": "38dBDVRlExIb",
    "papermill": {
     "duration": 0.009654,
     "end_time": "2024-06-09T05:44:18.488848",
     "exception": false,
     "start_time": "2024-06-09T05:44:18.479194",
     "status": "completed"
    },
    "tags": []
   },
   "source": [
    "# **Data Preprocessing**"
   ]
  },
  {
   "cell_type": "markdown",
   "id": "10bb20c4",
   "metadata": {
    "id": "sy2pPl1LE6R2",
    "papermill": {
     "duration": 0.009861,
     "end_time": "2024-06-09T05:44:18.508716",
     "exception": false,
     "start_time": "2024-06-09T05:44:18.498855",
     "status": "completed"
    },
    "tags": []
   },
   "source": [
    "### **Flatten Image**\n"
   ]
  },
  {
   "cell_type": "code",
   "execution_count": 7,
   "id": "5b5103a1",
   "metadata": {
    "execution": {
     "iopub.execute_input": "2024-06-09T05:44:18.530260Z",
     "iopub.status.busy": "2024-06-09T05:44:18.529883Z",
     "iopub.status.idle": "2024-06-09T05:44:18.536945Z",
     "shell.execute_reply": "2024-06-09T05:44:18.535779Z"
    },
    "id": "yBg9o1ybFNHs",
    "outputId": "9f76471a-f4e1-4953-b09d-c0818aa0468b",
    "papermill": {
     "duration": 0.020445,
     "end_time": "2024-06-09T05:44:18.539135",
     "exception": false,
     "start_time": "2024-06-09T05:44:18.518690",
     "status": "completed"
    },
    "tags": []
   },
   "outputs": [
    {
     "data": {
      "text/plain": [
       "(1797, 8, 8)"
      ]
     },
     "execution_count": 7,
     "metadata": {},
     "output_type": "execute_result"
    }
   ],
   "source": [
    "df.images.shape"
   ]
  },
  {
   "cell_type": "code",
   "execution_count": 8,
   "id": "c1bdc073",
   "metadata": {
    "execution": {
     "iopub.execute_input": "2024-06-09T05:44:18.561943Z",
     "iopub.status.busy": "2024-06-09T05:44:18.561546Z",
     "iopub.status.idle": "2024-06-09T05:44:18.570077Z",
     "shell.execute_reply": "2024-06-09T05:44:18.568755Z"
    },
    "id": "pSUHQdxrFAPS",
    "outputId": "0e90ac06-47f7-4007-ed0f-2c6401922ab8",
    "papermill": {
     "duration": 0.022926,
     "end_time": "2024-06-09T05:44:18.572867",
     "exception": false,
     "start_time": "2024-06-09T05:44:18.549941",
     "status": "completed"
    },
    "tags": []
   },
   "outputs": [
    {
     "data": {
      "text/plain": [
       "array([[ 0.,  0.,  5., 13.,  9.,  1.,  0.,  0.],\n",
       "       [ 0.,  0., 13., 15., 10., 15.,  5.,  0.],\n",
       "       [ 0.,  3., 15.,  2.,  0., 11.,  8.,  0.],\n",
       "       [ 0.,  4., 12.,  0.,  0.,  8.,  8.,  0.],\n",
       "       [ 0.,  5.,  8.,  0.,  0.,  9.,  8.,  0.],\n",
       "       [ 0.,  4., 11.,  0.,  1., 12.,  7.,  0.],\n",
       "       [ 0.,  2., 14.,  5., 10., 12.,  0.,  0.],\n",
       "       [ 0.,  0.,  6., 13., 10.,  0.,  0.,  0.]])"
      ]
     },
     "execution_count": 8,
     "metadata": {},
     "output_type": "execute_result"
    }
   ],
   "source": [
    "df.images[0]"
   ]
  },
  {
   "cell_type": "code",
   "execution_count": 9,
   "id": "657b9494",
   "metadata": {
    "execution": {
     "iopub.execute_input": "2024-06-09T05:44:18.594931Z",
     "iopub.status.busy": "2024-06-09T05:44:18.594501Z",
     "iopub.status.idle": "2024-06-09T05:44:18.601967Z",
     "shell.execute_reply": "2024-06-09T05:44:18.600757Z"
    },
    "id": "AuEQaG75Gc61",
    "outputId": "6927f82e-e3a5-46e0-c166-4bcbe45e1ba8",
    "papermill": {
     "duration": 0.021122,
     "end_time": "2024-06-09T05:44:18.604197",
     "exception": false,
     "start_time": "2024-06-09T05:44:18.583075",
     "status": "completed"
    },
    "tags": []
   },
   "outputs": [
    {
     "data": {
      "text/plain": [
       "(8, 8)"
      ]
     },
     "execution_count": 9,
     "metadata": {},
     "output_type": "execute_result"
    }
   ],
   "source": [
    "df.images[0].shape"
   ]
  },
  {
   "cell_type": "code",
   "execution_count": 10,
   "id": "94be0e10",
   "metadata": {
    "execution": {
     "iopub.execute_input": "2024-06-09T05:44:18.626334Z",
     "iopub.status.busy": "2024-06-09T05:44:18.625980Z",
     "iopub.status.idle": "2024-06-09T05:44:18.630890Z",
     "shell.execute_reply": "2024-06-09T05:44:18.629819Z"
    },
    "id": "Xxkj2BvSGxIw",
    "papermill": {
     "duration": 0.018358,
     "end_time": "2024-06-09T05:44:18.632873",
     "exception": false,
     "start_time": "2024-06-09T05:44:18.614515",
     "status": "completed"
    },
    "tags": []
   },
   "outputs": [],
   "source": [
    "n_samples = len(df.images)\n",
    "data = df.images.reshape((n_samples, -1))"
   ]
  },
  {
   "cell_type": "code",
   "execution_count": 11,
   "id": "d48fc278",
   "metadata": {
    "execution": {
     "iopub.execute_input": "2024-06-09T05:44:18.654974Z",
     "iopub.status.busy": "2024-06-09T05:44:18.654592Z",
     "iopub.status.idle": "2024-06-09T05:44:18.662351Z",
     "shell.execute_reply": "2024-06-09T05:44:18.661208Z"
    },
    "id": "-mHCQed0G25h",
    "outputId": "503ab4ec-4519-4b85-d3db-46d40ab6b0cf",
    "papermill": {
     "duration": 0.021344,
     "end_time": "2024-06-09T05:44:18.664561",
     "exception": false,
     "start_time": "2024-06-09T05:44:18.643217",
     "status": "completed"
    },
    "tags": []
   },
   "outputs": [
    {
     "data": {
      "text/plain": [
       "array([ 0.,  0.,  5., 13.,  9.,  1.,  0.,  0.,  0.,  0., 13., 15., 10.,\n",
       "       15.,  5.,  0.,  0.,  3., 15.,  2.,  0., 11.,  8.,  0.,  0.,  4.,\n",
       "       12.,  0.,  0.,  8.,  8.,  0.,  0.,  5.,  8.,  0.,  0.,  9.,  8.,\n",
       "        0.,  0.,  4., 11.,  0.,  1., 12.,  7.,  0.,  0.,  2., 14.,  5.,\n",
       "       10., 12.,  0.,  0.,  0.,  0.,  6., 13., 10.,  0.,  0.,  0.])"
      ]
     },
     "execution_count": 11,
     "metadata": {},
     "output_type": "execute_result"
    }
   ],
   "source": [
    "data[0]\n"
   ]
  },
  {
   "cell_type": "code",
   "execution_count": 12,
   "id": "0098e14b",
   "metadata": {
    "execution": {
     "iopub.execute_input": "2024-06-09T05:44:18.687174Z",
     "iopub.status.busy": "2024-06-09T05:44:18.686782Z",
     "iopub.status.idle": "2024-06-09T05:44:18.693435Z",
     "shell.execute_reply": "2024-06-09T05:44:18.692291Z"
    },
    "id": "I3zIngciG_1z",
    "outputId": "fb7ee9c8-ba57-41a7-a56f-b2a440451836",
    "papermill": {
     "duration": 0.020506,
     "end_time": "2024-06-09T05:44:18.695608",
     "exception": false,
     "start_time": "2024-06-09T05:44:18.675102",
     "status": "completed"
    },
    "tags": []
   },
   "outputs": [
    {
     "data": {
      "text/plain": [
       "(64,)"
      ]
     },
     "execution_count": 12,
     "metadata": {},
     "output_type": "execute_result"
    }
   ],
   "source": [
    "data[0].shape"
   ]
  },
  {
   "cell_type": "code",
   "execution_count": 13,
   "id": "b29b4f05",
   "metadata": {
    "execution": {
     "iopub.execute_input": "2024-06-09T05:44:18.718559Z",
     "iopub.status.busy": "2024-06-09T05:44:18.718175Z",
     "iopub.status.idle": "2024-06-09T05:44:18.725098Z",
     "shell.execute_reply": "2024-06-09T05:44:18.723967Z"
    },
    "id": "YNhI-51mHGOH",
    "outputId": "eaeeae6c-83f3-4a67-cc66-d32f30a14f84",
    "papermill": {
     "duration": 0.021137,
     "end_time": "2024-06-09T05:44:18.727476",
     "exception": false,
     "start_time": "2024-06-09T05:44:18.706339",
     "status": "completed"
    },
    "tags": []
   },
   "outputs": [
    {
     "data": {
      "text/plain": [
       "(1797, 64)"
      ]
     },
     "execution_count": 13,
     "metadata": {},
     "output_type": "execute_result"
    }
   ],
   "source": [
    "data.shape"
   ]
  },
  {
   "cell_type": "markdown",
   "id": "2d5c9874",
   "metadata": {
    "id": "qlN46w3kIQCW",
    "papermill": {
     "duration": 0.01042,
     "end_time": "2024-06-09T05:44:18.748765",
     "exception": false,
     "start_time": "2024-06-09T05:44:18.738345",
     "status": "completed"
    },
    "tags": []
   },
   "source": [
    "# **Scaling Data**"
   ]
  },
  {
   "cell_type": "code",
   "execution_count": 14,
   "id": "c2637a71",
   "metadata": {
    "execution": {
     "iopub.execute_input": "2024-06-09T05:44:18.772040Z",
     "iopub.status.busy": "2024-06-09T05:44:18.771633Z",
     "iopub.status.idle": "2024-06-09T05:44:18.778840Z",
     "shell.execute_reply": "2024-06-09T05:44:18.777804Z"
    },
    "id": "IXon6NZrJT1W",
    "outputId": "25007115-5a82-4e4f-ebb2-3bd4dafdaf23",
    "papermill": {
     "duration": 0.02159,
     "end_time": "2024-06-09T05:44:18.781056",
     "exception": false,
     "start_time": "2024-06-09T05:44:18.759466",
     "status": "completed"
    },
    "tags": []
   },
   "outputs": [
    {
     "data": {
      "text/plain": [
       "0.0"
      ]
     },
     "execution_count": 14,
     "metadata": {},
     "output_type": "execute_result"
    }
   ],
   "source": [
    "data.min()"
   ]
  },
  {
   "cell_type": "code",
   "execution_count": 15,
   "id": "9ff21718",
   "metadata": {
    "execution": {
     "iopub.execute_input": "2024-06-09T05:44:18.804004Z",
     "iopub.status.busy": "2024-06-09T05:44:18.803615Z",
     "iopub.status.idle": "2024-06-09T05:44:18.810687Z",
     "shell.execute_reply": "2024-06-09T05:44:18.809644Z"
    },
    "id": "pWKkuqQyJhWS",
    "outputId": "a3d5bdb0-af83-4cbe-817f-2a86191d9e57",
    "papermill": {
     "duration": 0.021303,
     "end_time": "2024-06-09T05:44:18.813049",
     "exception": false,
     "start_time": "2024-06-09T05:44:18.791746",
     "status": "completed"
    },
    "tags": []
   },
   "outputs": [
    {
     "data": {
      "text/plain": [
       "16.0"
      ]
     },
     "execution_count": 15,
     "metadata": {},
     "output_type": "execute_result"
    }
   ],
   "source": [
    "data.max()"
   ]
  },
  {
   "cell_type": "code",
   "execution_count": 16,
   "id": "f829fbe2",
   "metadata": {
    "execution": {
     "iopub.execute_input": "2024-06-09T05:44:18.836378Z",
     "iopub.status.busy": "2024-06-09T05:44:18.836019Z",
     "iopub.status.idle": "2024-06-09T05:44:18.841206Z",
     "shell.execute_reply": "2024-06-09T05:44:18.840073Z"
    },
    "id": "yEvCCvaEJnPl",
    "papermill": {
     "duration": 0.019565,
     "end_time": "2024-06-09T05:44:18.843509",
     "exception": false,
     "start_time": "2024-06-09T05:44:18.823944",
     "status": "completed"
    },
    "tags": []
   },
   "outputs": [],
   "source": [
    "data = data/16"
   ]
  },
  {
   "cell_type": "code",
   "execution_count": 17,
   "id": "d5c88011",
   "metadata": {
    "execution": {
     "iopub.execute_input": "2024-06-09T05:44:18.867937Z",
     "iopub.status.busy": "2024-06-09T05:44:18.867543Z",
     "iopub.status.idle": "2024-06-09T05:44:18.875248Z",
     "shell.execute_reply": "2024-06-09T05:44:18.873971Z"
    },
    "id": "_SSOMBxxJv94",
    "outputId": "8aec75e1-37cb-4091-fa38-126bc7cb7d6b",
    "papermill": {
     "duration": 0.022747,
     "end_time": "2024-06-09T05:44:18.877528",
     "exception": false,
     "start_time": "2024-06-09T05:44:18.854781",
     "status": "completed"
    },
    "tags": []
   },
   "outputs": [
    {
     "data": {
      "text/plain": [
       "0.0"
      ]
     },
     "execution_count": 17,
     "metadata": {},
     "output_type": "execute_result"
    }
   ],
   "source": [
    "data.min()"
   ]
  },
  {
   "cell_type": "code",
   "execution_count": 18,
   "id": "3dd0318d",
   "metadata": {
    "execution": {
     "iopub.execute_input": "2024-06-09T05:44:18.901510Z",
     "iopub.status.busy": "2024-06-09T05:44:18.901163Z",
     "iopub.status.idle": "2024-06-09T05:44:18.908265Z",
     "shell.execute_reply": "2024-06-09T05:44:18.907174Z"
    },
    "id": "mGcF8vtLJ2BY",
    "outputId": "4f734858-ee96-49ff-fdbe-3b4fbb6d0768",
    "papermill": {
     "duration": 0.023266,
     "end_time": "2024-06-09T05:44:18.911779",
     "exception": false,
     "start_time": "2024-06-09T05:44:18.888513",
     "status": "completed"
    },
    "tags": []
   },
   "outputs": [
    {
     "data": {
      "text/plain": [
       "1.0"
      ]
     },
     "execution_count": 18,
     "metadata": {},
     "output_type": "execute_result"
    }
   ],
   "source": [
    "data.max()"
   ]
  },
  {
   "cell_type": "code",
   "execution_count": 19,
   "id": "ab486d60",
   "metadata": {
    "execution": {
     "iopub.execute_input": "2024-06-09T05:44:18.936544Z",
     "iopub.status.busy": "2024-06-09T05:44:18.936154Z",
     "iopub.status.idle": "2024-06-09T05:44:18.944116Z",
     "shell.execute_reply": "2024-06-09T05:44:18.943072Z"
    },
    "id": "X6fVwqBQJ6vp",
    "outputId": "c9f614e1-d9e8-41bd-e4cc-183ecb7e8c4f",
    "papermill": {
     "duration": 0.022447,
     "end_time": "2024-06-09T05:44:18.946296",
     "exception": false,
     "start_time": "2024-06-09T05:44:18.923849",
     "status": "completed"
    },
    "tags": []
   },
   "outputs": [
    {
     "data": {
      "text/plain": [
       "array([0.    , 0.    , 0.3125, 0.8125, 0.5625, 0.0625, 0.    , 0.    ,\n",
       "       0.    , 0.    , 0.8125, 0.9375, 0.625 , 0.9375, 0.3125, 0.    ,\n",
       "       0.    , 0.1875, 0.9375, 0.125 , 0.    , 0.6875, 0.5   , 0.    ,\n",
       "       0.    , 0.25  , 0.75  , 0.    , 0.    , 0.5   , 0.5   , 0.    ,\n",
       "       0.    , 0.3125, 0.5   , 0.    , 0.    , 0.5625, 0.5   , 0.    ,\n",
       "       0.    , 0.25  , 0.6875, 0.    , 0.0625, 0.75  , 0.4375, 0.    ,\n",
       "       0.    , 0.125 , 0.875 , 0.3125, 0.625 , 0.75  , 0.    , 0.    ,\n",
       "       0.    , 0.    , 0.375 , 0.8125, 0.625 , 0.    , 0.    , 0.    ])"
      ]
     },
     "execution_count": 19,
     "metadata": {},
     "output_type": "execute_result"
    }
   ],
   "source": [
    "data[0]"
   ]
  },
  {
   "cell_type": "markdown",
   "id": "0580add4",
   "metadata": {
    "id": "_d9reeJwKHXR",
    "papermill": {
     "duration": 0.011248,
     "end_time": "2024-06-09T05:44:18.968825",
     "exception": false,
     "start_time": "2024-06-09T05:44:18.957577",
     "status": "completed"
    },
    "tags": []
   },
   "source": [
    "# **Train test split Data**"
   ]
  },
  {
   "cell_type": "code",
   "execution_count": 20,
   "id": "4cd3d476",
   "metadata": {
    "execution": {
     "iopub.execute_input": "2024-06-09T05:44:18.992674Z",
     "iopub.status.busy": "2024-06-09T05:44:18.992321Z",
     "iopub.status.idle": "2024-06-09T05:44:19.107418Z",
     "shell.execute_reply": "2024-06-09T05:44:19.106189Z"
    },
    "id": "FWmf0Te-KMcf",
    "papermill": {
     "duration": 0.130066,
     "end_time": "2024-06-09T05:44:19.110014",
     "exception": false,
     "start_time": "2024-06-09T05:44:18.979948",
     "status": "completed"
    },
    "tags": []
   },
   "outputs": [],
   "source": [
    "from sklearn.model_selection import train_test_split"
   ]
  },
  {
   "cell_type": "code",
   "execution_count": 21,
   "id": "0653cedf",
   "metadata": {
    "execution": {
     "iopub.execute_input": "2024-06-09T05:44:19.134850Z",
     "iopub.status.busy": "2024-06-09T05:44:19.134443Z",
     "iopub.status.idle": "2024-06-09T05:44:19.140814Z",
     "shell.execute_reply": "2024-06-09T05:44:19.139706Z"
    },
    "id": "DkYgWMVWKUTF",
    "papermill": {
     "duration": 0.021542,
     "end_time": "2024-06-09T05:44:19.143072",
     "exception": false,
     "start_time": "2024-06-09T05:44:19.121530",
     "status": "completed"
    },
    "tags": []
   },
   "outputs": [],
   "source": [
    "xtrain, xtest, ytrain, ytest = train_test_split(data, df.target, test_size = 0.3)"
   ]
  },
  {
   "cell_type": "code",
   "execution_count": 22,
   "id": "66ab7598",
   "metadata": {
    "execution": {
     "iopub.execute_input": "2024-06-09T05:44:19.168091Z",
     "iopub.status.busy": "2024-06-09T05:44:19.167684Z",
     "iopub.status.idle": "2024-06-09T05:44:19.175344Z",
     "shell.execute_reply": "2024-06-09T05:44:19.174017Z"
    },
    "id": "YVTrdv1HKYm2",
    "outputId": "8edc723d-b816-4e54-9719-4d85ac2372dd",
    "papermill": {
     "duration": 0.022886,
     "end_time": "2024-06-09T05:44:19.177685",
     "exception": false,
     "start_time": "2024-06-09T05:44:19.154799",
     "status": "completed"
    },
    "tags": []
   },
   "outputs": [
    {
     "data": {
      "text/plain": [
       "((1257, 64), (540, 64), (1257,), (540,))"
      ]
     },
     "execution_count": 22,
     "metadata": {},
     "output_type": "execute_result"
    }
   ],
   "source": [
    "xtrain.shape, xtest.shape, ytrain.shape, ytest.shape"
   ]
  },
  {
   "cell_type": "markdown",
   "id": "1bae0ac6",
   "metadata": {
    "id": "TjfzCy1hLHgE",
    "papermill": {
     "duration": 0.011003,
     "end_time": "2024-06-09T05:44:19.200158",
     "exception": false,
     "start_time": "2024-06-09T05:44:19.189155",
     "status": "completed"
    },
    "tags": []
   },
   "source": [
    "# **Modeling**"
   ]
  },
  {
   "cell_type": "markdown",
   "id": "916c9a0b",
   "metadata": {
    "id": "8WAIp_RNLa5F",
    "papermill": {
     "duration": 0.010964,
     "end_time": "2024-06-09T05:44:19.222974",
     "exception": false,
     "start_time": "2024-06-09T05:44:19.212010",
     "status": "completed"
    },
    "tags": []
   },
   "source": [
    "### **Random Forest model**"
   ]
  },
  {
   "cell_type": "code",
   "execution_count": 23,
   "id": "f84d60e7",
   "metadata": {
    "execution": {
     "iopub.execute_input": "2024-06-09T05:44:19.247340Z",
     "iopub.status.busy": "2024-06-09T05:44:19.246931Z",
     "iopub.status.idle": "2024-06-09T05:44:19.688889Z",
     "shell.execute_reply": "2024-06-09T05:44:19.687671Z"
    },
    "id": "XoB29gGkLL7W",
    "papermill": {
     "duration": 0.457235,
     "end_time": "2024-06-09T05:44:19.691444",
     "exception": false,
     "start_time": "2024-06-09T05:44:19.234209",
     "status": "completed"
    },
    "tags": []
   },
   "outputs": [],
   "source": [
    "from sklearn.ensemble import RandomForestClassifier"
   ]
  },
  {
   "cell_type": "code",
   "execution_count": 24,
   "id": "05d9f4dd",
   "metadata": {
    "execution": {
     "iopub.execute_input": "2024-06-09T05:44:19.718463Z",
     "iopub.status.busy": "2024-06-09T05:44:19.718098Z",
     "iopub.status.idle": "2024-06-09T05:44:19.724079Z",
     "shell.execute_reply": "2024-06-09T05:44:19.722675Z"
    },
    "id": "139leh2qLmDR",
    "papermill": {
     "duration": 0.022704,
     "end_time": "2024-06-09T05:44:19.726789",
     "exception": false,
     "start_time": "2024-06-09T05:44:19.704085",
     "status": "completed"
    },
    "tags": []
   },
   "outputs": [],
   "source": [
    "rf = RandomForestClassifier()"
   ]
  },
  {
   "cell_type": "markdown",
   "id": "4cbe24ce",
   "metadata": {
    "id": "Wg0qQXPIMbDL",
    "papermill": {
     "duration": 0.012517,
     "end_time": "2024-06-09T05:44:19.751211",
     "exception": false,
     "start_time": "2024-06-09T05:44:19.738694",
     "status": "completed"
    },
    "tags": []
   },
   "source": [
    "### **Train or Fit Model**"
   ]
  },
  {
   "cell_type": "code",
   "execution_count": 25,
   "id": "681716b1",
   "metadata": {
    "execution": {
     "iopub.execute_input": "2024-06-09T05:44:19.776632Z",
     "iopub.status.busy": "2024-06-09T05:44:19.776271Z",
     "iopub.status.idle": "2024-06-09T05:44:20.228654Z",
     "shell.execute_reply": "2024-06-09T05:44:20.227513Z"
    },
    "id": "vp-2DHLVLs4T",
    "outputId": "da61d3e8-5902-47fa-d9e0-f73c24e1c1e4",
    "papermill": {
     "duration": 0.467969,
     "end_time": "2024-06-09T05:44:20.231132",
     "exception": false,
     "start_time": "2024-06-09T05:44:19.763163",
     "status": "completed"
    },
    "tags": []
   },
   "outputs": [
    {
     "data": {
      "text/html": [
       "<style>#sk-container-id-1 {color: black;background-color: white;}#sk-container-id-1 pre{padding: 0;}#sk-container-id-1 div.sk-toggleable {background-color: white;}#sk-container-id-1 label.sk-toggleable__label {cursor: pointer;display: block;width: 100%;margin-bottom: 0;padding: 0.3em;box-sizing: border-box;text-align: center;}#sk-container-id-1 label.sk-toggleable__label-arrow:before {content: \"▸\";float: left;margin-right: 0.25em;color: #696969;}#sk-container-id-1 label.sk-toggleable__label-arrow:hover:before {color: black;}#sk-container-id-1 div.sk-estimator:hover label.sk-toggleable__label-arrow:before {color: black;}#sk-container-id-1 div.sk-toggleable__content {max-height: 0;max-width: 0;overflow: hidden;text-align: left;background-color: #f0f8ff;}#sk-container-id-1 div.sk-toggleable__content pre {margin: 0.2em;color: black;border-radius: 0.25em;background-color: #f0f8ff;}#sk-container-id-1 input.sk-toggleable__control:checked~div.sk-toggleable__content {max-height: 200px;max-width: 100%;overflow: auto;}#sk-container-id-1 input.sk-toggleable__control:checked~label.sk-toggleable__label-arrow:before {content: \"▾\";}#sk-container-id-1 div.sk-estimator input.sk-toggleable__control:checked~label.sk-toggleable__label {background-color: #d4ebff;}#sk-container-id-1 div.sk-label input.sk-toggleable__control:checked~label.sk-toggleable__label {background-color: #d4ebff;}#sk-container-id-1 input.sk-hidden--visually {border: 0;clip: rect(1px 1px 1px 1px);clip: rect(1px, 1px, 1px, 1px);height: 1px;margin: -1px;overflow: hidden;padding: 0;position: absolute;width: 1px;}#sk-container-id-1 div.sk-estimator {font-family: monospace;background-color: #f0f8ff;border: 1px dotted black;border-radius: 0.25em;box-sizing: border-box;margin-bottom: 0.5em;}#sk-container-id-1 div.sk-estimator:hover {background-color: #d4ebff;}#sk-container-id-1 div.sk-parallel-item::after {content: \"\";width: 100%;border-bottom: 1px solid gray;flex-grow: 1;}#sk-container-id-1 div.sk-label:hover label.sk-toggleable__label {background-color: #d4ebff;}#sk-container-id-1 div.sk-serial::before {content: \"\";position: absolute;border-left: 1px solid gray;box-sizing: border-box;top: 0;bottom: 0;left: 50%;z-index: 0;}#sk-container-id-1 div.sk-serial {display: flex;flex-direction: column;align-items: center;background-color: white;padding-right: 0.2em;padding-left: 0.2em;position: relative;}#sk-container-id-1 div.sk-item {position: relative;z-index: 1;}#sk-container-id-1 div.sk-parallel {display: flex;align-items: stretch;justify-content: center;background-color: white;position: relative;}#sk-container-id-1 div.sk-item::before, #sk-container-id-1 div.sk-parallel-item::before {content: \"\";position: absolute;border-left: 1px solid gray;box-sizing: border-box;top: 0;bottom: 0;left: 50%;z-index: -1;}#sk-container-id-1 div.sk-parallel-item {display: flex;flex-direction: column;z-index: 1;position: relative;background-color: white;}#sk-container-id-1 div.sk-parallel-item:first-child::after {align-self: flex-end;width: 50%;}#sk-container-id-1 div.sk-parallel-item:last-child::after {align-self: flex-start;width: 50%;}#sk-container-id-1 div.sk-parallel-item:only-child::after {width: 0;}#sk-container-id-1 div.sk-dashed-wrapped {border: 1px dashed gray;margin: 0 0.4em 0.5em 0.4em;box-sizing: border-box;padding-bottom: 0.4em;background-color: white;}#sk-container-id-1 div.sk-label label {font-family: monospace;font-weight: bold;display: inline-block;line-height: 1.2em;}#sk-container-id-1 div.sk-label-container {text-align: center;}#sk-container-id-1 div.sk-container {/* jupyter's `normalize.less` sets `[hidden] { display: none; }` but bootstrap.min.css set `[hidden] { display: none !important; }` so we also need the `!important` here to be able to override the default hidden behavior on the sphinx rendered scikit-learn.org. See: https://github.com/scikit-learn/scikit-learn/issues/21755 */display: inline-block !important;position: relative;}#sk-container-id-1 div.sk-text-repr-fallback {display: none;}</style><div id=\"sk-container-id-1\" class=\"sk-top-container\"><div class=\"sk-text-repr-fallback\"><pre>RandomForestClassifier()</pre><b>In a Jupyter environment, please rerun this cell to show the HTML representation or trust the notebook. <br />On GitHub, the HTML representation is unable to render, please try loading this page with nbviewer.org.</b></div><div class=\"sk-container\" hidden><div class=\"sk-item\"><div class=\"sk-estimator sk-toggleable\"><input class=\"sk-toggleable__control sk-hidden--visually\" id=\"sk-estimator-id-1\" type=\"checkbox\" checked><label for=\"sk-estimator-id-1\" class=\"sk-toggleable__label sk-toggleable__label-arrow\">RandomForestClassifier</label><div class=\"sk-toggleable__content\"><pre>RandomForestClassifier()</pre></div></div></div></div></div>"
      ],
      "text/plain": [
       "RandomForestClassifier()"
      ]
     },
     "execution_count": 25,
     "metadata": {},
     "output_type": "execute_result"
    }
   ],
   "source": [
    "rf.fit(xtrain, ytrain)"
   ]
  },
  {
   "cell_type": "markdown",
   "id": "13b175a7",
   "metadata": {
    "id": "9SOPoN9TNYFb",
    "papermill": {
     "duration": 0.012123,
     "end_time": "2024-06-09T05:44:20.255703",
     "exception": false,
     "start_time": "2024-06-09T05:44:20.243580",
     "status": "completed"
    },
    "tags": []
   },
   "source": [
    "# **Prediction**"
   ]
  },
  {
   "cell_type": "markdown",
   "id": "2203a3eb",
   "metadata": {
    "id": "VG9p5F21PAvH",
    "papermill": {
     "duration": 0.011702,
     "end_time": "2024-06-09T05:44:20.279313",
     "exception": false,
     "start_time": "2024-06-09T05:44:20.267611",
     "status": "completed"
    },
    "tags": []
   },
   "source": [
    "### **Predict Test Data**"
   ]
  },
  {
   "cell_type": "code",
   "execution_count": 26,
   "id": "ade3cb86",
   "metadata": {
    "execution": {
     "iopub.execute_input": "2024-06-09T05:44:20.305124Z",
     "iopub.status.busy": "2024-06-09T05:44:20.304683Z",
     "iopub.status.idle": "2024-06-09T05:44:20.335087Z",
     "shell.execute_reply": "2024-06-09T05:44:20.333750Z"
    },
    "id": "OExW8lApNl9i",
    "papermill": {
     "duration": 0.046387,
     "end_time": "2024-06-09T05:44:20.337691",
     "exception": false,
     "start_time": "2024-06-09T05:44:20.291304",
     "status": "completed"
    },
    "tags": []
   },
   "outputs": [],
   "source": [
    "y_pred = rf.predict(xtest)"
   ]
  },
  {
   "cell_type": "code",
   "execution_count": 27,
   "id": "abf2c2be",
   "metadata": {
    "execution": {
     "iopub.execute_input": "2024-06-09T05:44:20.364924Z",
     "iopub.status.busy": "2024-06-09T05:44:20.364304Z",
     "iopub.status.idle": "2024-06-09T05:44:20.373580Z",
     "shell.execute_reply": "2024-06-09T05:44:20.372268Z"
    },
    "id": "rnb_fNpENqrv",
    "outputId": "081b94a0-1398-4f61-b332-f74b5eb8d431",
    "papermill": {
     "duration": 0.025213,
     "end_time": "2024-06-09T05:44:20.376260",
     "exception": false,
     "start_time": "2024-06-09T05:44:20.351047",
     "status": "completed"
    },
    "tags": []
   },
   "outputs": [
    {
     "data": {
      "text/plain": [
       "array([3, 0, 8, 7, 0, 8, 8, 0, 5, 8, 1, 4, 5, 5, 0, 6, 6, 1, 6, 5, 2, 9,\n",
       "       1, 5, 1, 6, 9, 9, 7, 4, 9, 0, 3, 8, 3, 7, 7, 5, 4, 3, 1, 9, 1, 6,\n",
       "       9, 9, 7, 8, 5, 3, 8, 5, 0, 7, 5, 8, 0, 9, 0, 8, 2, 2, 9, 5, 3, 6,\n",
       "       0, 1, 5, 0, 9, 1, 7, 8, 0, 7, 9, 2, 4, 5, 3, 8, 1, 3, 5, 6, 3, 0,\n",
       "       2, 5, 0, 1, 7, 6, 2, 0, 9, 7, 7, 9, 7, 0, 2, 9, 6, 6, 1, 1, 5, 6,\n",
       "       6, 8, 3, 9, 3, 0, 7, 2, 5, 3, 1, 4, 9, 2, 2, 4, 1, 6, 4, 9, 4, 9,\n",
       "       2, 3, 8, 9, 3, 1, 8, 4, 5, 2, 2, 9, 4, 1, 1, 8, 9, 6, 3, 7, 1, 3,\n",
       "       4, 2, 7, 9, 3, 2, 2, 1, 0, 5, 9, 6, 9, 0, 4, 5, 4, 5, 8, 5, 0, 7,\n",
       "       2, 3, 9, 3, 0, 5, 7, 3, 6, 2, 6, 9, 9, 6, 6, 0, 2, 3, 1, 6, 4, 8,\n",
       "       7, 8, 9, 2, 4, 7, 6, 1, 0, 7, 6, 1, 6, 9, 5, 9, 1, 0, 5, 2, 7, 6,\n",
       "       7, 0, 1, 7, 1, 0, 9, 8, 6, 1, 6, 3, 4, 4, 9, 6, 2, 9, 3, 1, 8, 9,\n",
       "       2, 7, 2, 5, 8, 4, 6, 3, 2, 8, 8, 1, 2, 4, 5, 7, 1, 1, 4, 1, 1, 2,\n",
       "       3, 0, 5, 8, 7, 3, 5, 5, 8, 9, 7, 8, 4, 6, 7, 4, 0, 3, 0, 6, 1, 9,\n",
       "       2, 9, 7, 1, 6, 4, 9, 5, 3, 4, 6, 3, 1, 4, 8, 4, 0, 5, 3, 4, 5, 9,\n",
       "       1, 5, 6, 7, 8, 1, 1, 9, 7, 9, 9, 6, 9, 6, 4, 9, 8, 2, 5, 6, 4, 6,\n",
       "       7, 3, 1, 1, 9, 7, 7, 0, 4, 2, 6, 2, 8, 8, 0, 2, 6, 5, 6, 2, 9, 1,\n",
       "       9, 7, 2, 8, 9, 2, 1, 1, 1, 4, 7, 3, 9, 7, 7, 1, 4, 4, 2, 0, 2, 2,\n",
       "       8, 8, 4, 9, 4, 0, 8, 2, 6, 2, 8, 9, 0, 7, 0, 6, 8, 7, 0, 5, 6, 9,\n",
       "       7, 2, 4, 5, 5, 4, 5, 0, 8, 3, 2, 4, 8, 5, 3, 1, 2, 6, 2, 8, 6, 6,\n",
       "       0, 1, 8, 5, 6, 4, 6, 5, 9, 7, 4, 5, 2, 0, 5, 6, 1, 1, 7, 9, 2, 3,\n",
       "       6, 5, 0, 0, 4, 6, 8, 4, 4, 0, 1, 0, 3, 4, 4, 9, 5, 8, 2, 7, 6, 0,\n",
       "       7, 6, 4, 9, 6, 1, 3, 3, 8, 8, 8, 5, 3, 8, 7, 2, 0, 7, 3, 3, 3, 7,\n",
       "       2, 2, 1, 7, 0, 0, 7, 8, 1, 8, 9, 6, 2, 5, 7, 3, 9, 5, 1, 1, 0, 9,\n",
       "       3, 5, 4, 8, 9, 7, 0, 2, 7, 5, 9, 3, 0, 9, 1, 7, 8, 7, 1, 2, 7, 2,\n",
       "       9, 4, 6, 1, 8, 0, 1, 7, 2, 7, 3, 8])"
      ]
     },
     "execution_count": 27,
     "metadata": {},
     "output_type": "execute_result"
    }
   ],
   "source": [
    "y_pred"
   ]
  },
  {
   "cell_type": "markdown",
   "id": "661d36f9",
   "metadata": {
    "id": "Jvr4uUaWPxVZ",
    "papermill": {
     "duration": 0.011625,
     "end_time": "2024-06-09T05:44:20.401197",
     "exception": false,
     "start_time": "2024-06-09T05:44:20.389572",
     "status": "completed"
    },
    "tags": []
   },
   "source": [
    "#  **Model Evaluation**"
   ]
  },
  {
   "cell_type": "markdown",
   "id": "7ab8e2b0",
   "metadata": {
    "id": "hPklvpbnN9Y6",
    "papermill": {
     "duration": 0.012238,
     "end_time": "2024-06-09T05:44:20.425123",
     "exception": false,
     "start_time": "2024-06-09T05:44:20.412885",
     "status": "completed"
    },
    "tags": []
   },
   "source": [
    "### **Model Accuracy**"
   ]
  },
  {
   "cell_type": "code",
   "execution_count": 28,
   "id": "c09848cd",
   "metadata": {
    "execution": {
     "iopub.execute_input": "2024-06-09T05:44:20.452143Z",
     "iopub.status.busy": "2024-06-09T05:44:20.451751Z",
     "iopub.status.idle": "2024-06-09T05:44:20.457417Z",
     "shell.execute_reply": "2024-06-09T05:44:20.456043Z"
    },
    "id": "nZpShDxnOLIa",
    "papermill": {
     "duration": 0.022592,
     "end_time": "2024-06-09T05:44:20.459973",
     "exception": false,
     "start_time": "2024-06-09T05:44:20.437381",
     "status": "completed"
    },
    "tags": []
   },
   "outputs": [],
   "source": [
    "from sklearn.metrics import confusion_matrix, classification_report"
   ]
  },
  {
   "cell_type": "code",
   "execution_count": 29,
   "id": "868f4d33",
   "metadata": {
    "execution": {
     "iopub.execute_input": "2024-06-09T05:44:20.486946Z",
     "iopub.status.busy": "2024-06-09T05:44:20.486527Z",
     "iopub.status.idle": "2024-06-09T05:44:20.500073Z",
     "shell.execute_reply": "2024-06-09T05:44:20.498784Z"
    },
    "id": "ivPo0VnBOPHs",
    "outputId": "cf461f37-0cc5-43ab-c0b5-dc7397e93a7c",
    "papermill": {
     "duration": 0.03003,
     "end_time": "2024-06-09T05:44:20.502571",
     "exception": false,
     "start_time": "2024-06-09T05:44:20.472541",
     "status": "completed"
    },
    "tags": []
   },
   "outputs": [
    {
     "data": {
      "text/plain": [
       "array([[50,  0,  0,  0,  0,  0,  0,  0,  0,  0],\n",
       "       [ 0, 56,  0,  0,  0,  0,  0,  0,  0,  0],\n",
       "       [ 0,  0, 54,  0,  0,  0,  0,  0,  0,  0],\n",
       "       [ 0,  0,  0, 45,  0,  0,  0,  0,  0,  0],\n",
       "       [ 0,  0,  0,  0, 47,  0,  0,  1,  1,  0],\n",
       "       [ 0,  0,  0,  0,  0, 50,  0,  0,  0,  0],\n",
       "       [ 1,  1,  0,  0,  0,  0, 56,  0,  0,  0],\n",
       "       [ 0,  0,  0,  0,  0,  0,  0, 57,  1,  0],\n",
       "       [ 0,  2,  1,  0,  1,  0,  0,  0, 50,  0],\n",
       "       [ 0,  0,  0,  1,  0,  1,  0,  0,  1, 63]])"
      ]
     },
     "execution_count": 29,
     "metadata": {},
     "output_type": "execute_result"
    }
   ],
   "source": [
    "confusion_matrix(ytest, y_pred)"
   ]
  },
  {
   "cell_type": "code",
   "execution_count": 30,
   "id": "f89e4c51",
   "metadata": {
    "execution": {
     "iopub.execute_input": "2024-06-09T05:44:20.529701Z",
     "iopub.status.busy": "2024-06-09T05:44:20.529312Z",
     "iopub.status.idle": "2024-06-09T05:44:20.545630Z",
     "shell.execute_reply": "2024-06-09T05:44:20.543978Z"
    },
    "id": "JTY4ExgcOXFU",
    "outputId": "da391975-0d03-4aca-ec74-fe294d7ee90c",
    "papermill": {
     "duration": 0.033669,
     "end_time": "2024-06-09T05:44:20.548064",
     "exception": false,
     "start_time": "2024-06-09T05:44:20.514395",
     "status": "completed"
    },
    "tags": []
   },
   "outputs": [
    {
     "name": "stdout",
     "output_type": "stream",
     "text": [
      "              precision    recall  f1-score   support\n",
      "\n",
      "           0       0.98      1.00      0.99        50\n",
      "           1       0.95      1.00      0.97        56\n",
      "           2       0.98      1.00      0.99        54\n",
      "           3       0.98      1.00      0.99        45\n",
      "           4       0.98      0.96      0.97        49\n",
      "           5       0.98      1.00      0.99        50\n",
      "           6       1.00      0.97      0.98        58\n",
      "           7       0.98      0.98      0.98        58\n",
      "           8       0.94      0.93      0.93        54\n",
      "           9       1.00      0.95      0.98        66\n",
      "\n",
      "    accuracy                           0.98       540\n",
      "   macro avg       0.98      0.98      0.98       540\n",
      "weighted avg       0.98      0.98      0.98       540\n",
      "\n"
     ]
    }
   ],
   "source": [
    "print(classification_report(ytest, y_pred))"
   ]
  },
  {
   "cell_type": "markdown",
   "id": "36d5a2a3",
   "metadata": {
    "id": "s717aEzkSeJO",
    "papermill": {
     "duration": 0.01264,
     "end_time": "2024-06-09T05:44:20.573524",
     "exception": false,
     "start_time": "2024-06-09T05:44:20.560884",
     "status": "completed"
    },
    "tags": []
   },
   "source": [
    "# **Explaination**"
   ]
  },
  {
   "cell_type": "markdown",
   "id": "a134f8ea",
   "metadata": {
    "id": "JB39fRcBQY3C",
    "papermill": {
     "duration": 0.011706,
     "end_time": "2024-06-09T05:44:20.598606",
     "exception": false,
     "start_time": "2024-06-09T05:44:20.586900",
     "status": "completed"
    },
    "tags": []
   },
   "source": [
    "Handwritten Digit Prediction, or Digit Classification, is like training a computer to read and understand handwritten numbers, similar to how we recognize them ourselves. Imagine you have a bunch of pictures, each showing a handwritten digit from 0 to 9. The goal is to teach the computer how to look at these pictures and figure out which digit is in each one. We split our pictures into two groups: one set to teach the computer (training set) and another to test its skills (testing set). We choose a smart method, like a special problem-solving recipe, for the computer to learn the patterns and differences in the pictures. As it learns, we guide it by telling whether its guesses are right or wrong. Once it masters this skill, we give it new pictures it hasn't seen during training, and it tries its best to guess the correct digit. We check its guesses to see how well it's doing, using simple checks to see if it's getting the numbers correct. This project helps us build a computer that can recognize handwritten digits, which has practical uses like reading postal codes or helping computers understand our handwriting. It's like teaching the computer to read your handwriting."
   ]
  }
 ],
 "metadata": {
  "kaggle": {
   "accelerator": "none",
   "dataSources": [],
   "dockerImageVersionId": 30527,
   "isGpuEnabled": false,
   "isInternetEnabled": true,
   "language": "python",
   "sourceType": "notebook"
  },
  "kernelspec": {
   "display_name": "Python 3",
   "language": "python",
   "name": "python3"
  },
  "language_info": {
   "codemirror_mode": {
    "name": "ipython",
    "version": 3
   },
   "file_extension": ".py",
   "mimetype": "text/x-python",
   "name": "python",
   "nbconvert_exporter": "python",
   "pygments_lexer": "ipython3",
   "version": "3.10.12"
  },
  "papermill": {
   "default_parameters": {},
   "duration": 17.56924,
   "end_time": "2024-06-09T05:44:21.634494",
   "environment_variables": {},
   "exception": null,
   "input_path": "__notebook__.ipynb",
   "output_path": "__notebook__.ipynb",
   "parameters": {},
   "start_time": "2024-06-09T05:44:04.065254",
   "version": "2.4.0"
  }
 },
 "nbformat": 4,
 "nbformat_minor": 5
}
